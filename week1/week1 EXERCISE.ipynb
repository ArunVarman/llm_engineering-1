{
 "cells": [
  {
   "cell_type": "markdown",
   "id": "fe12c203-e6a6-452c-a655-afb8a03a4ff5",
   "metadata": {},
   "source": [
    "# End of week 1 exercise\n",
    "\n",
    "To demonstrate your familiarity with OpenAI API, and also Ollama, build a tool that takes a technical question,  \n",
    "and responds with an explanation. This is a tool that you will be able to use yourself during the course!"
   ]
  },
  {
   "cell_type": "code",
   "execution_count": 4,
   "id": "c1070317-3ed9-4659-abe3-828943230e03",
   "metadata": {},
   "outputs": [],
   "source": [
    "# imports\n",
    "\n",
    "import os\n",
    "import requests\n",
    "from dotenv import load_dotenv\n",
    "from IPython.display import Markdown, display, update_display\n",
    "from openai import OpenAI"
   ]
  },
  {
   "cell_type": "code",
   "execution_count": 13,
   "id": "4a456906-915a-4bfd-bb9d-57e505c5093f",
   "metadata": {},
   "outputs": [],
   "source": [
    "# constants\n",
    "\n",
    "MODEL_GPT = 'gpt-4o-mini'\n",
    "MODEL_LLAMA = 'llama3.2'\n",
    "\n",
    "openai = OpenAI()"
   ]
  },
  {
   "cell_type": "code",
   "execution_count": 3,
   "id": "a8d7923c-5f28-4c30-8556-342d7c8497c1",
   "metadata": {},
   "outputs": [
    {
     "name": "stdout",
     "output_type": "stream",
     "text": [
      "API key looks good so far\n"
     ]
    }
   ],
   "source": [
    "# set up environment\n",
    "\n",
    "load_dotenv(override=True)\n",
    "api_key = os.getenv('OPENAI_API_KEY')\n",
    "\n",
    "if api_key and api_key.startswith('sk-proj-') and len(api_key)>10:\n",
    "    print(\"API key looks good so far\")\n",
    "else:\n",
    "    print(\"There might be a problem with your API key? Please visit the troubleshooting notebook!\")\n",
    "\n"
   ]
  },
  {
   "cell_type": "code",
   "execution_count": 8,
   "id": "3f0d0137-52b0-47a8-81a8-11a90a010798",
   "metadata": {},
   "outputs": [],
   "source": [
    "# here is the question; type over this to ask something new\n",
    "\n",
    "question = \"\"\"\n",
    "Please explain what this code does and why:\n",
    "yield from {book.get(\"author\") for book in books if book.get(\"author\")}\n",
    "\"\"\""
   ]
  },
  {
   "cell_type": "code",
   "execution_count": 18,
   "id": "7b72571e",
   "metadata": {},
   "outputs": [],
   "source": [
    "# Define our system prompt - you can experiment with this later, changing the last sentence to 'Respond in markdown in Spanish.\"\n",
    "\n",
    "system_prompt = \"You are a python technical tutor for python, data science and LLM. \\\n",
    "                Explain the given question in detail. Also provides the example on the scenario if possible\""
   ]
  },
  {
   "cell_type": "code",
   "execution_count": 19,
   "id": "25d2c606",
   "metadata": {},
   "outputs": [],
   "source": [
    "messages = [\n",
    "    {\"role\": \"system\", \"content\": system_prompt},\n",
    "    {\"role\": \"user\", \"content\": \"Please give the detailed explanation of this question: \"+ question}\n",
    "    ]"
   ]
  },
  {
   "cell_type": "code",
   "execution_count": 20,
   "id": "60ce7000-a4a5-4cce-a261-e75ef45063b4",
   "metadata": {},
   "outputs": [],
   "source": [
    "# Get gpt-4o-mini to answer, with streaming\n",
    "def stream_answer(messages):\n",
    "    stream = openai.chat.completions.create(\n",
    "        model=MODEL_GPT,\n",
    "        messages=messages,\n",
    "        stream=True\n",
    "    )\n",
    "\n",
    "    response = \"\"\n",
    "    display_handle = display(Markdown(\"\"), display_id=True)\n",
    "    for chunk in stream:\n",
    "        response += chunk.choices[0].delta.content or ''\n",
    "        response = response.replace(\"```\",\"\").replace(\"markdown\", \"\")\n",
    "        update_display(Markdown(response), display_id=display_handle.display_id)"
   ]
  },
  {
   "cell_type": "code",
   "execution_count": 21,
   "id": "1f6fa9bf",
   "metadata": {},
   "outputs": [
    {
     "data": {
      "text/markdown": [
       "The provided code snippet makes use of a Python generator with the `yield from` statement, and it includes a set comprehension. Let’s break down the components to understand what this code does in detail and why it is structured this way.\n",
       "\n",
       "### Breakdown of the Code\n",
       "\n",
       "1. **Set Comprehension:**\n",
       "   The expression `{book.get(\"author\") for book in books if book.get(\"author\")}` is a set comprehension that creates a set of authors from a collection of `book` dictionaries.\n",
       "\n",
       "   - `books`: This is expected to be an iterable (like a list) containing dictionaries, where each dictionary represents a book.\n",
       "   - `book.get(\"author\")`: This retrieves the value of the key `\"author\"` for each `book` dictionary. If the key doesn't exist, it will return `None`.\n",
       "   - `if book.get(\"author\")`: This condition filters out any books that do not have an author (i.e., where `book.get(\"author\")` is `None` or evaluates to `False`).\n",
       "   - The result of this comprehension is a set of unique authors since sets automatically eliminate duplicates. \n",
       "\n",
       "2. **yield from Statement:**\n",
       "   The keyword `yield` is used in Python to create a generator. `yield from` is a specific form that allows a generator to yield all values from another iterable. \n",
       "\n",
       "   - In this case, `yield from` is used to yield each author from the set created by the set comprehension.\n",
       "   - When `yield from` is used, it effectively creates a generator that produces each value from the provided iterable (which, in this case, is the set of authors).\n",
       "\n",
       "### Overall Functionality\n",
       "The entire line of code can be seen in the context of a generator function that produces a list of unique authors from the given `books` list. Each time the generator function is called, it will generate the next author until there are no more authors left to yield.\n",
       "\n",
       "### Example Scenario\n",
       "\n",
       "Let's say we have the following list of book dictionaries:\n",
       "\n",
       "python\n",
       "books = [\n",
       "    {\"title\": \"Book 1\", \"author\": \"Author A\"},\n",
       "    {\"title\": \"Book 2\", \"author\": \"Author B\"},\n",
       "    {\"title\": \"Book 3\", \"author\": None},  # No author\n",
       "    {\"title\": \"Book 4\", \"author\": \"Author A\"},  # Duplicate author\n",
       "    {\"title\": \"Book 5\", \"author\": \"Author C\"},\n",
       "    {\"title\": \"Book 6\"}  # No author key\n",
       "]\n",
       "\n",
       "\n",
       "In this case, if we use the code snippet you provided in the context of a generator function, it would look like this:\n",
       "\n",
       "python\n",
       "def get_unique_authors(books):\n",
       "    yield from {book.get(\"author\") for book in books if book.get(\"author\")}\n",
       "\n",
       "# Using the generator function\n",
       "for author in get_unique_authors(books):\n",
       "    print(author)\n",
       "\n",
       "\n",
       "### Output\n",
       "\n",
       "The expected output of this code would be:\n",
       "\n",
       "\n",
       "Author A\n",
       "Author B\n",
       "Author C\n",
       "\n",
       "\n",
       "### Explanation of Output\n",
       "\n",
       "Here’s how the output is derived:\n",
       "\n",
       "- **Unique Authors:** The authors \"Author A\", \"Author B\", and \"Author C\" are included in the output because they are unique and exist in the `books` list. \n",
       "- **Filtered Out:** \"None\" values and books without the `\"author\"` key are filtered out, meaning that they don't appear in the final output.\n",
       "\n",
       "This structured approach using set comprehension combined with `yield from` effectively allows for concise, readable, and efficient extraction of unique authors from a list of books. It's particularly useful in the context of large datasets where unique values are often needed without duplicates."
      ],
      "text/plain": [
       "<IPython.core.display.Markdown object>"
      ]
     },
     "metadata": {},
     "output_type": "display_data"
    }
   ],
   "source": [
    "stream_answer(messages)"
   ]
  },
  {
   "cell_type": "code",
   "execution_count": 22,
   "id": "8f7c8ea8-4082-4ad0-8751-3301adcf6538",
   "metadata": {},
   "outputs": [],
   "source": [
    "# Get Llama 3.2 to answer\n",
    "ollama_openai = OpenAI(base_url='http://localhost:11434/v1', api_key='ollama')\n",
    "\n",
    "def stream_ollama_answer(messages):\n",
    "    stream = ollama_openai.chat.completions.create(        \n",
    "        model=MODEL_LLAMA,\n",
    "        messages=messages,\n",
    "        stream=True\n",
    "    )\n",
    "\n",
    "    response = \"\"\n",
    "    display_handle = display(Markdown(\"\"), display_id=True)\n",
    "    for chunk in stream:\n",
    "        response += chunk.choices[0].delta.content or ''\n",
    "        response = response.replace(\"```\",\"\").replace(\"markdown\", \"\")\n",
    "        update_display(Markdown(response), display_id=display_handle.display_id)"
   ]
  },
  {
   "cell_type": "code",
   "execution_count": 23,
   "id": "86b39d85",
   "metadata": {},
   "outputs": [
    {
     "data": {
      "text/markdown": [
       "**Detailed Explanation**\n",
       "\n",
       "This line of code uses a combination of Python features to achieve a specific goal. It's part of a larger context called \"list comprehension\" or more specifically, an iterable expression.\n",
       "\n",
       "Let's break down what this code does:\n",
       "\n",
       "1. `{book.get(\"author\") for book in books if book.get(\"author\")}` is an **iterable expression**. This syntax uses the `for` loop to iterate over the elements of a collection (in this case, `books`) and applies a transformation to each element using the `get()` method.\n",
       "\n",
       "2. `book.get(\"author\")` is the **transformation** applied to each book in the `books` collection. The `get()` method retrieves the value associated with the key `\"author\"` from each book's dictionary (assuming that's how data is stored). If the key doesn't exist, it returns `None`.\n",
       "\n",
       "3. `yield from ...` is a **context manager** technique used to **yields an iterator** created by the iterable expression.\n",
       "\n",
       "So, what does this code actually do?\n",
       "\n",
       "- It creates a generator of author names.\n",
       " \n",
       "Here's how it works:\n",
       "\n",
       "  - For each book in `books`, it gets the author using `book.get(\"author\")`.\n",
       "  \n",
       "  - While iterating over these authors, if an author is found to be `None` during iteration (for example, some books have missing data), the subsequent code after the iterable expression will be skipped and move on with the next non-None book.\n",
       "  \n",
       "It then uses **`yield from`** before an iterable expression.\n",
       "\n",
       "- It takes any existing generator function in the current namespace, which produces an iterator, and extends it using `yield from ...`.\n",
       "- Here we’re iterating over each book’s author:\n",
       "  - If a book is missing an ‘author’ key, skip to the next book\n",
       "- Yield each result as if they were generated by your existing code – this way you avoid creating any overhead in memory while still being able to use iteration directly with this part of your function.\n",
       "\n",
       "\n",
       "\n",
       "Here's a step-by-step example:\n",
       "\n",
       "Let's assume we have a list of books (`books`) and a dictionary that stores book data. Each book is stored under the key \"book\". Below are two functions, `get_books()` and `extract_authors()`, which represent our code:\n",
       "\n",
       "\n",
       "\n",
       "python\n",
       "import json\n",
       "\n",
       "\n",
       "# Function to get all books with their author\n",
       "\n",
       "def get_books():\n",
       "    books = [\n",
       "        {\"title\": 'Book1', \"author\": 'Author 1'},\n",
       "        {\"title\": 'Book2', \"\", },\n",
       "        {\"title\": 'Book3', \"author\": 'Author 4'},\n",
       "    ]\n",
       "\n",
       "    # Use list comprehension for filtering and generating an iterator\n",
       "    authors = {book['author'] for book in books if book.get('author')}\n",
       "    return (\n",
       "        yield from {book.get(\"author\")\n",
       "            for book in books \n",
       "            if book.get(\"author\")}\n",
       "    )\n",
       "\n",
       "\n",
       "# Generate author names\n",
       "\n",
       "def main():\n",
       "    extracted_authors = get_books()\n",
       "\n",
       "if __name__ == \"__main__\":\n",
       "    for x in extracted_authors:\n",
       "       print(x)\n"
      ],
      "text/plain": [
       "<IPython.core.display.Markdown object>"
      ]
     },
     "metadata": {},
     "output_type": "display_data"
    }
   ],
   "source": [
    "stream_ollama_answer(messages)"
   ]
  },
  {
   "cell_type": "code",
   "execution_count": null,
   "id": "7d8a111b",
   "metadata": {},
   "outputs": [],
   "source": []
  }
 ],
 "metadata": {
  "kernelspec": {
   "display_name": "llms",
   "language": "python",
   "name": "python3"
  },
  "language_info": {
   "codemirror_mode": {
    "name": "ipython",
    "version": 3
   },
   "file_extension": ".py",
   "mimetype": "text/x-python",
   "name": "python",
   "nbconvert_exporter": "python",
   "pygments_lexer": "ipython3",
   "version": "3.11.13"
  }
 },
 "nbformat": 4,
 "nbformat_minor": 5
}
