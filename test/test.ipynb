{
 "cells": [
  {
   "cell_type": "code",
   "execution_count": null,
   "id": "57667d35",
   "metadata": {},
   "outputs": [],
   "source": [
    "X = 12\n",
    "if (X > 10 & X < 15):\n",
    "    print('YES')\n",
    "else:\n",
    "    print('No')"
   ]
  },
  {
   "cell_type": "code",
   "execution_count": null,
   "id": "24b78d8d",
   "metadata": {},
   "outputs": [],
   "source": [
    "a=40\n",
    "b=30\n",
    "c=20\n",
    "\n",
    "if( a > b and a > c):\n",
    "    print(\"a\")\n",
    "elif(b > a and b > c):\n",
    "    print(\"b\")\n",
    "else:\n",
    "     print(\"c\")"
   ]
  },
  {
   "cell_type": "code",
   "execution_count": null,
   "id": "0cab7d6b",
   "metadata": {},
   "outputs": [],
   "source": [
    "if (10 < 0) and (0 < -10):\n",
    "    print(\"A\")\n",
    "elif (10 > 0) or False:\n",
    "    print(\"B\")\n",
    "else:\n",
    "    print(\"C\")"
   ]
  },
  {
   "cell_type": "code",
   "execution_count": null,
   "id": "5dd5a663",
   "metadata": {},
   "outputs": [],
   "source": [
    "if True or True:\n",
    "    if False and True or False:\n",
    "        print('A')\n",
    "    elif False and False or True and True:\n",
    "        print('B')\n",
    "    else:\n",
    "        print('C')\n",
    "else:\n",
    "    print('D')"
   ]
  },
  {
   "cell_type": "code",
   "execution_count": null,
   "id": "ff344f32",
   "metadata": {},
   "outputs": [],
   "source": [
    "d = {0: 'fish', 1: 'bird', 2: 'Mammal'}\n",
    "\n",
    "for i in d:\n",
    "    print(i)"
   ]
  },
  {
   "cell_type": "code",
   "execution_count": null,
   "id": "a1be4cc7",
   "metadata": {},
   "outputs": [],
   "source": [
    "n = 4\n",
    "\n",
    "for i in range(1, n+1):\n",
    "    print(i)"
   ]
  },
  {
   "cell_type": "code",
   "execution_count": null,
   "id": "5c9b1b4f",
   "metadata": {},
   "outputs": [],
   "source": [
    "def func(x, y = 1):\n",
    "    z = x * y + x + y\n",
    "    return z\n",
    "\n",
    "func(2, func(3))"
   ]
  },
  {
   "cell_type": "code",
   "execution_count": null,
   "id": "693ddc56",
   "metadata": {},
   "outputs": [],
   "source": [
    "func(3)"
   ]
  },
  {
   "cell_type": "code",
   "execution_count": null,
   "id": "f077c417",
   "metadata": {},
   "outputs": [],
   "source": [
    "L1 = [2, 7, 8, 10, 3]\n",
    "\n",
    "def func(y):\n",
    "    return y**2 - 2 * y - 2\n",
    "\n",
    "ans_list = [func(x) for x in L1 ]\n",
    "ans_list"
   ]
  },
  {
   "cell_type": "code",
   "execution_count": null,
   "id": "2ac7eed1",
   "metadata": {},
   "outputs": [],
   "source": [
    "min = (lambda x, y: x if x < y else y)\n",
    "min(101*99, 102*98)"
   ]
  },
  {
   "cell_type": "code",
   "execution_count": null,
   "id": "9046a9e6",
   "metadata": {},
   "outputs": [],
   "source": [
    "x = ['Santa Cruz', 'Santa fe','Mumbai', 'Delhi']\n",
    "\n",
    "def res(string):\n",
    "    if string[0].upper() == 'S':\n",
    "        return string\n",
    "    \n",
    "res = map(res, x)\n",
    "out = list(filter(lambda x: x is not None, res))\n",
    "print(len(out))"
   ]
  },
  {
   "cell_type": "code",
   "execution_count": null,
   "id": "41a1e49b",
   "metadata": {},
   "outputs": [],
   "source": [
    "input_list = [ ['Ankur','Avik','Kiran','Nitin'],['Narang','Sarkar','R','Sareen']]\n",
    "\n",
    "first_name = input_list[0]\n",
    "last_name = input_list[1]\n",
    "\n",
    "output = map(lambda x, y: x + ' ' + y, first_name, last_name)\n",
    "list(output)"
   ]
  },
  {
   "cell_type": "code",
   "execution_count": null,
   "id": "53d03153",
   "metadata": {},
   "outputs": [],
   "source": [
    "input_list = [1, 2, 3, 4, 5, 6, 7, 8, 9, 10, 11, 12, 13, 14, 15, 16, 17, 18, 19, 20, 21, 22, 23, 24, 25, 26, 27, 28, 29, 30, 31, 32, 33, 34, 35, 36, 37, 38, 39, 40, 41, 42, 43, 44, 45, 46, 47, 48, 49, 50]\n",
    "\n",
    "list_answer = list(filter(lambda x: x%5 ==0, input_list))\n",
    "list_answer "
   ]
  },
  {
   "cell_type": "code",
   "execution_count": null,
   "id": "f424e8ec",
   "metadata": {},
   "outputs": [],
   "source": [
    "input_list = ['soap','sharp','shy','silent','ship','summer','sheep']\n",
    "\n",
    "sp = list(filter(lambda x: x[0].lower() == 's' and x[-1].lower() == 'p', input_list))\n",
    "sp"
   ]
  },
  {
   "cell_type": "code",
   "execution_count": null,
   "id": "9887da52",
   "metadata": {},
   "outputs": [],
   "source": [
    "from functools import reduce\n",
    "\n",
    "input_list = ['All','you','have','to','fear','is','fear','itself']\n",
    "\n",
    "output = reduce(lambda x, y: x + ' ' + y, input_list)\n",
    "\n",
    "output"
   ]
  },
  {
   "cell_type": "code",
   "execution_count": null,
   "id": "837b01c6",
   "metadata": {},
   "outputs": [],
   "source": [
    "input_list = [65,76,87,23,12,90,99]\n",
    "\n",
    "answer = reduce(lambda x, y: x if x > y else y, input_list)\n",
    "\n",
    "answer"
   ]
  },
  {
   "cell_type": "code",
   "execution_count": null,
   "id": "dfb05111",
   "metadata": {},
   "outputs": [],
   "source": [
    "input_string = \"I love Python\"\n",
    "k = [(i.upper(), len(i)) for i in input_string.split(' ')]\n",
    "print(k)"
   ]
  },
  {
   "cell_type": "code",
   "execution_count": null,
   "id": "18506374",
   "metadata": {},
   "outputs": [],
   "source": [
    "var = [i**2 for i in range(5)]\n",
    "print(var)"
   ]
  },
  {
   "cell_type": "code",
   "execution_count": null,
   "id": "7c575695",
   "metadata": {},
   "outputs": [],
   "source": [
    "def function(n):\n",
    "  n=n+1\n",
    " \n",
    "n=2\n",
    "print(function(2))"
   ]
  },
  {
   "cell_type": "code",
   "execution_count": null,
   "id": "8a691021",
   "metadata": {},
   "outputs": [],
   "source": [
    "def samplefunc(msg,i=3):\n",
    "  print(msg*i)\n",
    " \n",
    "samplefunc('python',4)\n",
    "samplefunc('program')"
   ]
  },
  {
   "cell_type": "code",
   "execution_count": null,
   "id": "9bae2c48",
   "metadata": {},
   "outputs": [],
   "source": [
    "f=lambda x:bool(x%2)\n",
    "print(f(100)* f(101))"
   ]
  },
  {
   "cell_type": "code",
   "execution_count": null,
   "id": "466f3e9f",
   "metadata": {},
   "outputs": [],
   "source": [
    "input_string = \"I love Python\"\n",
    "k = [(i.upper(), len(i)) for i in input_string.split(' ')]\n",
    "print(k)"
   ]
  },
  {
   "cell_type": "code",
   "execution_count": null,
   "id": "fae99472",
   "metadata": {},
   "outputs": [],
   "source": [
    "l=(1, -2, -3, 4, 5)\n",
    "def f1(x):\n",
    "    return x//2\n",
    "m1=map(f1, l)\n",
    "print(list(m1))"
   ]
  },
  {
   "cell_type": "code",
   "execution_count": null,
   "id": "3cf057da",
   "metadata": {},
   "outputs": [],
   "source": [
    "from functools import reduce\n",
    "numbers = [-1, 2, -5, 3, 8,-2, 1,-4,-2]\n",
    "sum = reduce(lambda x, y: x + y, numbers)\n",
    "print(sum)"
   ]
  },
  {
   "cell_type": "code",
   "execution_count": null,
   "id": "ae8025bc",
   "metadata": {},
   "outputs": [],
   "source": [
    "import functools\n",
    "\n",
    "lis=[1, 2, 3, 4, 5]\n",
    "\n",
    "m=functools.reduce(lambda x, y:x if x<y else y, lis)\n",
    "\n",
    "print(m)"
   ]
  },
  {
   "cell_type": "code",
   "execution_count": null,
   "id": "db5206a1",
   "metadata": {},
   "outputs": [],
   "source": [
    "lis=[1, 2, 3, 4, 5]\n",
    "\n",
    "c=lis[0]\n",
    "\n",
    "for i in range(len(lis)-1):\n",
    "\n",
    "    if lis[i]<c:\n",
    "\n",
    "       c=lis[i]\n",
    "\n",
    "print(c)"
   ]
  },
  {
   "cell_type": "code",
   "execution_count": null,
   "id": "d2a4263e",
   "metadata": {},
   "outputs": [],
   "source": [
    "def sf(a):\n",
    "    return a%4==0 and a%8!=0\n",
    "m=filter(sf, range(10, 31))\n",
    "print(list(m))"
   ]
  },
  {
   "cell_type": "code",
   "execution_count": null,
   "id": "8128f95a",
   "metadata": {},
   "outputs": [],
   "source": [
    "input_list = [5, 7, 22, 97, 54, 62, 77, 23, 73, 61]\n",
    "\n",
    "output = list(map(lambda x: x*3, input_list))\n",
    "print(output)"
   ]
  },
  {
   "cell_type": "code",
   "execution_count": null,
   "id": "d41b7c80",
   "metadata": {},
   "outputs": [],
   "source": [
    "input_list = ['Ronaldo', 'Cristiano', 'Rakesh', 'Ronak']\n",
    "\n",
    "output = list(map(lambda x: x[::-1].upper(), input_list))\n",
    "print(output)"
   ]
  },
  {
   "cell_type": "code",
   "execution_count": null,
   "id": "913224dd",
   "metadata": {},
   "outputs": [],
   "source": [
    "\n",
    "# Function to find common names in 3 lists\n",
    "def find_common_names(list1, list2, list3):\n",
    "    # Convert lists to sets\n",
    "    set1 = set(list1)\n",
    "    set2 = set(list2)\n",
    "    set3 = set(list3)\n",
    "    \n",
    "    # Find intersection of all 3 sets\n",
    "    common_names = set1.intersection(set2, set3)\n",
    "    \n",
    "    return list(common_names)\n",
    "\n",
    "# Example usage\n",
    "names1 = [\"John\", \"Emma\", \"Michael\", \"Sarah\"]\n",
    "names2 = [\"Emma\", \"James\", \"Sarah\", \"William\"] \n",
    "names3 = [\"Sarah\", \"Emma\", \"Thomas\", \"Elizabeth\"]\n",
    "\n",
    "common = find_common_names(names1, names2, names3)\n",
    "print(\"Common names:\", common)"
   ]
  },
  {
   "cell_type": "code",
   "execution_count": 5,
   "id": "28fb5065",
   "metadata": {},
   "outputs": [
    {
     "data": {
      "text/plain": [
       "[{'name': 'Mandeep', 'rank': 2},\n",
       " {'name': 'Merut', 'rank': 2},\n",
       " {'name': 'Mohan', 'rank': 2}]"
      ]
     },
     "execution_count": 5,
     "metadata": {},
     "output_type": "execute_result"
    }
   ],
   "source": [
    "input_list = [{ \"name\" : \"Mohan\", \"rank\" : 2}, { \"name\" : \"Mandeep\", \"rank\" : 2 }, { \"name\" : \"Merut\" , \"rank\" : 2 }]\n",
    "\n",
    "output = sorted(input_list, key=lambda x: (x[\"rank\"], x[\"name\"]))\n",
    "output"
   ]
  },
  {
   "cell_type": "code",
   "execution_count": 9,
   "id": "5bf1d501",
   "metadata": {},
   "outputs": [
    {
     "name": "stdout",
     "output_type": "stream",
     "text": [
      "[{4: 'Viking', 9: 'Happy', 10: 'Tony', 2: 'Rogers'}, {1: 'Ronaldo', 29: 'Harish', 7: 'Ganesh'}, {12: 'Vikram', 19: 'Vipan'}, {3: 'Kohli'}]\n"
     ]
    }
   ],
   "source": [
    "input_list = [{4: 'Viking', 9: 'Happy', 10: 'Tony', 2: 'Rogers'}, {12: 'Vikram', 19: 'Vipan'}, {3: 'Kohli'}, {1: 'Ronaldo', 29: 'Harish', 7: 'Ganesh'}]\n",
    "\n",
    "output = sorted(input_list, key=lambda x: len(x), reverse=True)\n",
    "\n",
    "print(output)"
   ]
  },
  {
   "cell_type": "code",
   "execution_count": 13,
   "id": "4bd3d753",
   "metadata": {},
   "outputs": [
    {
     "data": {
      "text/plain": [
       "array([1. , 1.2])"
      ]
     },
     "execution_count": 13,
     "metadata": {},
     "output_type": "execute_result"
    }
   ],
   "source": [
    "import numpy as np\n",
    "\n",
    "np.array((1, 1.2))"
   ]
  },
  {
   "cell_type": "code",
   "execution_count": 20,
   "id": "11650205",
   "metadata": {},
   "outputs": [
    {
     "name": "stdout",
     "output_type": "stream",
     "text": [
      "[2, 5, 7, 4, 3, 1]\n"
     ]
    }
   ],
   "source": [
    "array_1 = [1,2,3,5,4,6,7,8,5,3,2]\n",
    "print(array_1[ : : -2])"
   ]
  },
  {
   "cell_type": "code",
   "execution_count": 27,
   "id": "690edfa5",
   "metadata": {},
   "outputs": [
    {
     "name": "stdout",
     "output_type": "stream",
     "text": [
      "[9 7 9]\n"
     ]
    }
   ],
   "source": [
    "input_list=[ 1, 5, 9, 12, 15, 7, 12, 9 ]\n",
    "m=6\n",
    "n=12\n",
    "\n",
    "import numpy as np\n",
    "array_1 = np.array(input_list)\n",
    "final_array = array_1[(array_1 > m) & (array_1 < n)]\n",
    "\n",
    "print(final_array)"
   ]
  },
  {
   "cell_type": "code",
   "execution_count": 31,
   "id": "ef167394",
   "metadata": {},
   "outputs": [
    {
     "data": {
      "text/plain": [
       "array([[1, 3, 5, 4],\n",
       "       [2, 3, 5, 6]])"
      ]
     },
     "execution_count": 31,
     "metadata": {},
     "output_type": "execute_result"
    }
   ],
   "source": [
    "array_1 = np.array([[1, 3, 5, 4],[2,3,5,6]])\n",
    "array_1"
   ]
  },
  {
   "cell_type": "code",
   "execution_count": 34,
   "id": "0acc8124",
   "metadata": {},
   "outputs": [
    {
     "data": {
      "text/plain": [
       "array([[1, 3, 5],\n",
       "       [2, 3, 5]])"
      ]
     },
     "execution_count": 34,
     "metadata": {},
     "output_type": "execute_result"
    }
   ],
   "source": [
    "array_1[ : , :3] "
   ]
  },
  {
   "cell_type": "code",
   "execution_count": 46,
   "id": "72edf350",
   "metadata": {},
   "outputs": [
    {
     "name": "stdout",
     "output_type": "stream",
     "text": [
      "[11 21 31]\n",
      "[11 12 13 14]\n",
      "[14 24 34]\n",
      "[31 32 33 34]\n"
     ]
    }
   ],
   "source": [
    "array_2d = np.array([[11, 12, 13, 14], [21, 22, 23, 24], [31, 32, 33, 34]])\n",
    "array_2d\n",
    "# appropriate indexing\n",
    "col_first = array_2d[0: , 0]\n",
    "row_first = array_2d[0]\n",
    "col_last = array_2d[0:, -1]\n",
    "row_last = array_2d[-1]\n",
    "\n",
    "print(col_first)\n",
    "print(row_first)\n",
    "print(col_last)\n",
    "print(row_last)"
   ]
  },
  {
   "cell_type": "code",
   "execution_count": 53,
   "id": "98472376",
   "metadata": {},
   "outputs": [
    {
     "name": "stdout",
     "output_type": "stream",
     "text": [
      "[[1 1]\n",
      " [1 1]]\n"
     ]
    }
   ],
   "source": [
    "n = 2\n",
    "\n",
    "# Create an 'n*n' array of all ones\n",
    "array_2d = np.ones([n, n], dtype=int)\n",
    "\n",
    "# Fill the array with zeroes from second index (i.e. index 1) to second last index.\n",
    "# Do this for both row indices and column indices\n",
    "array_2d[1:-1, 1:-1] = 0\n",
    "\n",
    "# Print the array created\n",
    "print(array_2d)"
   ]
  },
  {
   "cell_type": "code",
   "execution_count": 55,
   "id": "3bbeae1d",
   "metadata": {},
   "outputs": [
    {
     "name": "stdout",
     "output_type": "stream",
     "text": [
      "['W', 'e', 'l', 'c', 'o', 'm', 'e', 't', 'o']\n"
     ]
    }
   ],
   "source": [
    "import re\n",
    "#1. Extract all the words\n",
    "text = \"Welcome to\"\n",
    "print(re.findall(r'\\w', text))"
   ]
  },
  {
   "cell_type": "code",
   "execution_count": 57,
   "id": "52c98d4b",
   "metadata": {},
   "outputs": [
    {
     "name": "stdout",
     "output_type": "stream",
     "text": [
      "['Welcome_to', 'Regex101', 'Learn', 'practice', 'now']\n"
     ]
    }
   ],
   "source": [
    "# 1. Find all words in the sentence\n",
    "# Extract all words (alphanumeric + underscore) from this string:\n",
    "text = \"Welcome_to Regex101! Learn & practice now.\"\n",
    "print(re.findall(r'\\w+', text))"
   ]
  },
  {
   "cell_type": "code",
   "execution_count": 58,
   "id": "ec9b92ff",
   "metadata": {},
   "outputs": [
    {
     "name": "stdout",
     "output_type": "stream",
     "text": [
      "['Hi']\n"
     ]
    }
   ],
   "source": [
    "# 2. Check if a string starts with 'Hi'\n",
    "text = \"Hi there!\"\n",
    "print(re.findall(r'^Hi', text))"
   ]
  },
  {
   "cell_type": "code",
   "execution_count": 68,
   "id": "17e98867",
   "metadata": {},
   "outputs": [
    {
     "name": "stdout",
     "output_type": "stream",
     "text": [
      "['42', '5']\n"
     ]
    }
   ],
   "source": [
    "# 3. Find all digits in the string\n",
    "text = \"Room number 42, Floor 5\"\n",
    "print(re.findall(r'\\d+', text))"
   ]
  },
  {
   "cell_type": "code",
   "execution_count": 66,
   "id": "e242e3a9",
   "metadata": {},
   "outputs": [
    {
     "name": "stdout",
     "output_type": "stream",
     "text": [
      "?\n"
     ]
    }
   ],
   "source": [
    "# 4. Match if string ends with a question mark\n",
    "text = 'Are you coming?'\n",
    "print(re.search(r'\\?$', text).group())"
   ]
  },
  {
   "cell_type": "code",
   "execution_count": 74,
   "id": "51a290fa",
   "metadata": {},
   "outputs": [
    {
     "name": "stdout",
     "output_type": "stream",
     "text": [
      "[[ 7 13 14  5]\n",
      " [18 10 17  8]\n",
      " [11 12 19  4]\n",
      " [16  6  1  3]]\n"
     ]
    }
   ],
   "source": [
    "input_list = [[[7, 13, 14], [18, 10, 17], [11, 12, 19]], [16, 6, 1], [[5, 8, 4, 3]]]\n",
    "list_1 = input_list[0]\n",
    "list_2 = input_list[1]\n",
    "list_3 = input_list[2]\n",
    "\n",
    "\n",
    "# Write your code here\n",
    "final_array = np.vstack((list_1, list_2))\n",
    "final_array = np.hstack((final_array, np.transpose(list_3)))\n",
    "print(final_array)\n"
   ]
  },
  {
   "cell_type": "code",
   "execution_count": 3,
   "id": "4747c91f",
   "metadata": {},
   "outputs": [
    {
     "data": {
      "text/plain": [
       "\"It's interesting to see how Natural Language Processing (NLP) has evolved over the years. NLP is a subfield of artificial intelligence (AI) that focuses on the interaction between computers and humans. NLP techniques are used to analyze text, allowing machines to understand how humans speak. This human-computer interaction enables real-world applications like automatic text summarization, sentiment analysis, topic extraction, named entity recognition, parts-of-speech tagging, relationship extraction, stemming, and more. NLP is commonly used for text mining, machine translation, and automated question answering.\""
      ]
     },
     "execution_count": 3,
     "metadata": {},
     "output_type": "execute_result"
    }
   ],
   "source": [
    "# sample text to perform preprocessing\n",
    "text = \"It's interesting to see how Natural Language Processing (NLP) has evolved over the years. NLP is a subfield of artificial intelligence (AI) that focuses on the interaction between computers and humans. NLP techniques are used to analyze text, allowing machines to understand how humans speak. This human-computer interaction enables real-world applications like automatic text summarization, sentiment analysis, topic extraction, named entity recognition, parts-of-speech tagging, relationship extraction, stemming, and more. NLP is commonly used for text mining, machine translation, and automated question answering.\"\n",
    "text"
   ]
  },
  {
   "cell_type": "code",
   "execution_count": 82,
   "id": "acf521c7",
   "metadata": {},
   "outputs": [
    {
     "data": {
      "text/plain": [
       "'it s interesting to see how natural language processing  nlp  has evolved over the years  nlp is a subfield of artificial intelligence  ai  that focuses on the interaction between computers and humans  nlp techniques are used to analyze text  allowing machines to understand how humans speak  this human computer interaction enables real world applications like automatic text summarization  sentiment analysis  topic extraction  named entity recognition  parts of speech tagging  relationship extraction  stemming  and more  nlp is commonly used for text mining  machine translation  and automated question answering '"
      ]
     },
     "execution_count": 82,
     "metadata": {},
     "output_type": "execute_result"
    }
   ],
   "source": [
    "cleaned = re.sub(r'\\W',' ', text)\n",
    "cleaned = re.sub(r'\\d', '', cleaned).lower()\n",
    "cleaned"
   ]
  },
  {
   "cell_type": "code",
   "execution_count": null,
   "id": "258b8163",
   "metadata": {},
   "outputs": [],
   "source": []
  },
  {
   "cell_type": "code",
   "execution_count": 1,
   "id": "6f0fa6cf",
   "metadata": {},
   "outputs": [
    {
     "data": {
      "text/plain": [
       "array([[  1,   2,   3,   4,   5,   6,   7,   8,   9,  10,  11,  12],\n",
       "       [ 13,  14,  15,  16,  17,  18,  19,  20,  21,  22,  23,  24],\n",
       "       [ 25,  26,  27,  28,  29,  30,  31,  32,  33,  34,  35,  36],\n",
       "       [ 37,  38,  39,  40,  41,  42,  43,  44,  45,  46,  47,  48],\n",
       "       [ 49,  50,  51,  52,  53,  54,  55,  56,  57,  58,  59,  60],\n",
       "       [ 61,  62,  63,  64,  65,  66,  67,  68,  69,  70,  71,  72],\n",
       "       [ 73,  74,  75,  76,  77,  78,  79,  80,  81,  82,  83,  84],\n",
       "       [ 85,  86,  87,  88,  89,  90,  91,  92,  93,  94,  95,  96],\n",
       "       [ 97,  98,  99, 100, 101, 102, 103, 104, 105, 106, 107, 108],\n",
       "       [109, 110, 111, 112, 113, 114, 115, 116, 117, 118, 119, 120],\n",
       "       [121, 122, 123, 124, 125, 126, 127, 128, 129, 130, 131, 132]])"
      ]
     },
     "execution_count": 1,
     "metadata": {},
     "output_type": "execute_result"
    }
   ],
   "source": [
    "import numpy as np\n",
    "\n",
    "array_1 = np.array(range(1, 11*12+1))\n",
    "array_1 = array_1.reshape(11, 12)\n",
    "array_1"
   ]
  },
  {
   "cell_type": "code",
   "execution_count": 2,
   "id": "e54db849",
   "metadata": {},
   "outputs": [
    {
     "data": {
      "text/plain": [
       "(8, 3)"
      ]
     },
     "execution_count": 2,
     "metadata": {},
     "output_type": "execute_result"
    }
   ],
   "source": [
    "np.unravel_index(99, (11,12))"
   ]
  },
  {
   "cell_type": "code",
   "execution_count": 5,
   "id": "528566b2",
   "metadata": {},
   "outputs": [
    {
     "data": {
      "text/plain": [
       "array([1, 5, 3, 7, 4, 9])"
      ]
     },
     "execution_count": 5,
     "metadata": {},
     "output_type": "execute_result"
    }
   ],
   "source": [
    "array_1 = np.array([[1, 5],\n",
    " [3, 7],\n",
    " [4, 9]])\n",
    "\n",
    "np.reshape(array_1, -1)"
   ]
  },
  {
   "cell_type": "code",
   "execution_count": 7,
   "id": "0abe427c",
   "metadata": {},
   "outputs": [],
   "source": [
    "array_1 = np.array([[1, 2, 3, 4, 5],\n",
    " [6, 7, 8, 9, 10],\n",
    " [11, 12, 13, 14, 15],\n",
    " [16, 17, 18, 19, 20]])"
   ]
  },
  {
   "cell_type": "code",
   "execution_count": 9,
   "id": "9cab4bc0",
   "metadata": {},
   "outputs": [
    {
     "name": "stdout",
     "output_type": "stream",
     "text": [
      "[ 1  3  5  7  9 11 13 15 17 19]\n"
     ]
    }
   ],
   "source": [
    "print(array_1[array_1%2 != 0]) "
   ]
  },
  {
   "cell_type": "code",
   "execution_count": 10,
   "id": "40db40ac",
   "metadata": {},
   "outputs": [
    {
     "name": "stdout",
     "output_type": "stream",
     "text": [
      "[[ 2  4]\n",
      " [ 6  8]\n",
      " [10 12]\n",
      " [14 16]\n",
      " [18 20]]\n"
     ]
    }
   ],
   "source": [
    "print(array_1[array_1%2 == 0].reshape(5, 2)) "
   ]
  },
  {
   "cell_type": "code",
   "execution_count": 13,
   "id": "b2b091cc",
   "metadata": {},
   "outputs": [
    {
     "data": {
      "text/plain": [
       "array([[1, 5, 3, 7, 4, 9]])"
      ]
     },
     "execution_count": 13,
     "metadata": {},
     "output_type": "execute_result"
    }
   ],
   "source": [
    "array_1 = np.array([[1, 5],\n",
    " [3, 7],\n",
    " [4, 9]])\n",
    "\n",
    "np.reshape(array_1, (1, -1))"
   ]
  },
  {
   "cell_type": "code",
   "execution_count": null,
   "id": "5a11786e",
   "metadata": {},
   "outputs": [],
   "source": []
  }
 ],
 "metadata": {
  "kernelspec": {
   "display_name": "llms",
   "language": "python",
   "name": "python3"
  },
  "language_info": {
   "codemirror_mode": {
    "name": "ipython",
    "version": 3
   },
   "file_extension": ".py",
   "mimetype": "text/x-python",
   "name": "python",
   "nbconvert_exporter": "python",
   "pygments_lexer": "ipython3",
   "version": "3.11.13"
  }
 },
 "nbformat": 4,
 "nbformat_minor": 5
}
